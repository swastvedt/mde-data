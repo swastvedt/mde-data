{
 "cells": [
  {
   "cell_type": "markdown",
   "metadata": {},
   "source": [
    "# Special Populations\n",
    "Load and join enrollment files, by race and ethnicity, for 2005-06 through the current year. Include state, district and school-level information in a single dataframe"
   ]
  },
  {
   "cell_type": "code",
   "execution_count": 1,
   "metadata": {
    "collapsed": true
   },
   "outputs": [],
   "source": [
    "import pandas as pd\n",
    "import re\n",
    "import datetime\n",
    "\n",
    "#Source folder for the excel files, downloaded from MDE website\n",
    "folder = 'C:/Users/swastvedt/Documents/MDE Data_Documents/Enrollment/Originals/'\n",
    "currentYear = datetime.date.today().year\n",
    "#Earliest year we have data for\n",
    "a = 2005\n",
    "\n",
    "specPop = pd.DataFrame()\n",
    "files = []\n",
    "\n",
    "###Create a list of file names\n",
    "#Account for change in file name format that occurred in 2016-17\n",
    "while a < currentYear:\n",
    "    if a < 2016:\n",
    "        files.append(folder + str(a) + '-' + str(a+1) + ' Enrollment by Special Populations Rev.xlsx')\n",
    "        \n",
    "    else:\n",
    "        files.append(folder + str(a) + '-' + str(a+1) + ' Enrollment by Special Populations.xlsx')\n",
    "        \n",
    "    a = a + 1\n",
    "    \n",
    "def upcase_first_letter(s):\n",
    "    return s[0].upper() + s[1:]\n",
    "\n",
    "def remove_underscore(s):\n",
    "    return re.sub(r'_', '', s)\n",
    "\n",
    "###Capitalize column names and create \"DistrictID\" column to use as an index\n",
    "def clean_table(df):\n",
    "    df.columns = [str(upcase_first_letter(x)) for x in df.columns]\n",
    "    df['DistrictID'] = df['DistrictNumber'] + '-' + df['DistrictType'] + '-' + df['SchoolNumber']\n",
    "    df = df.set_index(['DataYear', 'DistrictID', 'Grade'])\n",
    "    \n",
    "    return df\n",
    "\n",
    "###Load files from source folder. Create a list of dataframes for each year that includes state, district and school-level information\n",
    "def load_data(f):\n",
    "    df_st = pd.read_excel(f, sheetname='State', dtype = {0:str, 1: str, 3: str, 4: str, 6: str, 7: str, 9: str})\n",
    "    df_dist = pd.read_excel(f, sheetname='District', dtype = {0:str, 1: str, 3: str, 4: str, 6: str, 7: str, 9: str, 21: str, 23: str})\n",
    "    df_sch = pd.read_excel(f, sheetname='School', dtype = {0:str, 1: str, 3: str, 4: str, 6: str, 7: str, 9: str, 21: str, 23: str})\n",
    "    \n",
    "    df_list = [clean_table(d) for d in [df_st, df_dist, df_sch]]\n",
    "\n",
    "    return df_list"
   ]
  },
  {
   "cell_type": "code",
   "execution_count": 2,
   "metadata": {
    "collapsed": true
   },
   "outputs": [],
   "source": [
    "###Load data for each file name in the files list\n",
    "frames = [ load_data(f) for f in files ]"
   ]
  },
  {
   "cell_type": "code",
   "execution_count": 3,
   "metadata": {
    "collapsed": true
   },
   "outputs": [],
   "source": [
    "###Join state, district and school-level data for each year in the frames list\n",
    "listCollapse = [ l[0].append([l[1], l[2]]) for l in frames ]"
   ]
  },
  {
   "cell_type": "code",
   "execution_count": 4,
   "metadata": {
    "collapsed": true
   },
   "outputs": [],
   "source": [
    "###Join dataframes for all years into one. Drop blank rows.\n",
    "specPop = specPop.append(listCollapse)"
   ]
  },
  {
   "cell_type": "code",
   "execution_count": 5,
   "metadata": {
    "collapsed": true
   },
   "outputs": [],
   "source": [
    "specPop.drop('end of worksheet', level='DataYear', inplace=True)\n",
    "specPop.drop(['Unnamed: 21', 'Unnamed: 22', 'Unnamed: 23'], axis=1, inplace=True)"
   ]
  },
  {
   "cell_type": "code",
   "execution_count": 6,
   "metadata": {
    "collapsed": true
   },
   "outputs": [],
   "source": [
    "###Save specPop table to local folder\n",
    "specPop.to_csv('tempdata/specPop.csv')"
   ]
  },
  {
   "cell_type": "code",
   "execution_count": 7,
   "metadata": {},
   "outputs": [
    {
     "name": "stderr",
     "output_type": "stream",
     "text": [
      "127.0.0.1 - - [28/Sep/2017 15:25:21] \"GET /?code=M03a8a5cb-700b-2322-9a1e-057969d6bf92 HTTP/1.1\" 200 -\n"
     ]
    }
   ],
   "source": [
    "###Update shared file on OneDrive and return new link to file.\n",
    "import onedrivesdk\n",
    "from onedrivesdk.helpers import GetAuthCodeServer\n",
    "\n",
    "redirect_uri = 'http://localhost:8080/'\n",
    "\n",
    "#Credentials for \"Python data upload\" OneDrive app\n",
    "client_secret = ***\n",
    "client = onedrivesdk.get_default_client(client_id=***,\n",
    "                                            scopes=['wl.signin',\n",
    "                                                    'wl.offline_access',\n",
    "                                                    'onedrive.readwrite'])\n",
    "auth_url = client.auth_provider.get_auth_url(redirect_uri)\n",
    "\n",
    "# Block thread until we have the code\n",
    "code = GetAuthCodeServer.get_auth_code(auth_url, redirect_uri)\n",
    "# Finally, authenticate\n",
    "client.auth_provider.authenticate(code, redirect_uri, client_secret)"
   ]
  },
  {
   "cell_type": "code",
   "execution_count": 8,
   "metadata": {
    "scrolled": true
   },
   "outputs": [],
   "source": [
    "returned_item = client.item(id='root').children['specPop.csv'].upload('tempdata/specPop.csv')"
   ]
  },
  {
   "cell_type": "code",
   "execution_count": 9,
   "metadata": {},
   "outputs": [
    {
     "data": {
      "text/plain": [
       "'\\nhttps://1drv.ms/u/s!AvY_lznp4oOFbK3lJsQ31kg965E\\n'"
      ]
     },
     "execution_count": 9,
     "metadata": {},
     "output_type": "execute_result"
    }
   ],
   "source": [
    "#Input the client information from above and the \"specPop.csv\" filename to generate a new sharing link\n",
    "def get_sharing_link(c, fileName):\n",
    "    permission = c.item(id='root').children[fileName].create_link(\"view\").post()\n",
    "    return (\"\\n{}\\n\".format(permission.link.web_url))\n",
    "\n",
    "get_sharing_link(client, 'specPop.csv')"
   ]
  },
  {
   "cell_type": "code",
   "execution_count": null,
   "metadata": {
    "collapsed": true
   },
   "outputs": [],
   "source": []
  }
 ],
 "metadata": {
  "kernelspec": {
   "display_name": "Python 2",
   "language": "python",
   "name": "python2"
  },
  "language_info": {
   "codemirror_mode": {
    "name": "ipython",
    "version": 2
   },
   "file_extension": ".py",
   "mimetype": "text/x-python",
   "name": "python",
   "nbconvert_exporter": "python",
   "pygments_lexer": "ipython2",
   "version": "2.7.13"
  }
 },
 "nbformat": 4,
 "nbformat_minor": 2
}
