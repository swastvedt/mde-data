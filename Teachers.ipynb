{
 "cells": [
  {
   "cell_type": "markdown",
   "metadata": {},
   "source": [
    "# Teachers\n",
    "Load and join teacher employment and assignment files for multiple years. Produces separate csvs for employment, assignment data"
   ]
  },
  {
   "cell_type": "code",
   "execution_count": 1,
   "metadata": {
    "collapsed": true
   },
   "outputs": [],
   "source": [
    "import pandas as pd\n",
    "import re\n",
    "import datetime\n",
    "\n",
    "#Source folder for the excel files, downloaded from MDE website\n",
    "folder = 'C:/Users/swastvedt/Documents/MDE Data_Documents/Teachers/Originals/'\n",
    "currentYear = datetime.date.today().year % 100\n",
    "#Earliest year we have data for\n",
    "a = 9\n",
    "\n",
    "employ = pd.DataFrame()\n",
    "assign = pd.DataFrame()\n",
    "\n",
    "employFiles = []\n",
    "assignFiles = []\n",
    "\n",
    "###Create two lists of file names, assignment and employment\n",
    "while a < currentYear:\n",
    "    if a < 10:\n",
    "        assignFiles.append(folder + 'Assignment/200' + str(a) + '-20' + str(a+1) + ' Assignment Detail.xlsx')\n",
    "        employFiles.append(folder + 'Employment/200' + str(a) + '-20' + str(a+1) + ' Employment Detail.xlsx')\n",
    "        \n",
    "    else:\n",
    "        assignFiles.append(folder + 'Assignment/20' + str(a) + '-20' + str(a+1) + ' Assignment Detail.xlsx')\n",
    "        employFiles.append(folder + 'Employment/20' + str(a) + '-20' + str(a+1) + ' Employment Detail.xlsx')\n",
    "        \n",
    "    a = a + 1\n",
    "    \n",
    "def upcase_first_letter(s):\n",
    "    return s[0].upper() + s[1:]\n",
    "\n",
    "def remove_spaces(s):\n",
    "    return re.sub(r' ', '', s)\n",
    "\n",
    "def add_zeros(c, n):\n",
    "    def f(s):\n",
    "        while len(str(s)) < n:\n",
    "            s = '0'+str(s)\n",
    "        return s\n",
    "    \n",
    "    c = [f(s) for s in c]\n",
    "        \n",
    "    return c\n",
    "\n",
    "###Standardize column names\n",
    "def clean_table(df):\n",
    "    df.columns = [str(remove_spaces(x)) for x in df.columns]\n",
    "    df.rename(columns = {\n",
    "        'dat_yer':'DataYear',\n",
    "        'fdr_num':'FdrNum',\n",
    "        'districtnumber': 'DistrictNumber',\n",
    "        'districttype': 'DistrictType',\n",
    "        'districtname': 'DistrictName',\n",
    "        'lst_nam': 'LastName',\n",
    "        'fst_name': 'FirstName',\n",
    "        'ini': 'Ini',\n",
    "        'sex': 'Sex',\n",
    "        'ethnicity': 'Ethnicity',\n",
    "        'wks_wrk': 'WksWrk',\n",
    "        'ft_pt': 'FtPt',\n",
    "        'schoolnumber': 'SchoolNumber',\n",
    "        'schoolname': 'SchoolName',\n",
    "        'asg_cde': 'AsgCde',\n",
    "        'asg_des': 'AsgDes',\n",
    "        'asg_cnt': 'AsgCnt',\n",
    "        'module_length': 'ModuleLength',\n",
    "        'mod_wks': 'ModWks',\n",
    "        'crt_cde': 'CrtCde',\n",
    "        'asg_Fte': 'AsgFte',\n",
    "        'Mode_Of_Teaching': 'ModeOfTeaching',\n",
    "        'hqt_sts': 'HqtSts',\n",
    "        'address': 'Address',\n",
    "        'city': 'City',\n",
    "        'state': 'State',\n",
    "        'zip': 'Zip',\n",
    "        'zip4': 'Zip4',\n",
    "        'eco_dev_rgn': 'EconomicDevelopmentRegion',\n",
    "        \n",
    "    }, inplace=True)\n",
    "    \n",
    "    df['DistrictNumber'] = add_zeros(df['DistrictNumber'], 4)\n",
    "    df['DistrictType'] = add_zeros(df['DistrictType'], 2)\n",
    "    if 'SchoolNumber' in df.columns:\n",
    "        df['SchoolNumber'] = add_zeros(df['SchoolNumber'], 3)\n",
    "    \n",
    "    return df\n",
    "\n",
    "###Load files from source folder. Specify str datatype for text fields\n",
    "def load_data(f):    \n",
    "    df = pd.read_excel(f,\n",
    "                      converters = {\n",
    "                        'dat_yer':str,\n",
    "                        'fdr_num':str,\n",
    "                        'districtnumber':str,\n",
    "                        'districtNumber': str,\n",
    "                        'DistrictNumber': str,\n",
    "                        'District Number': str,\n",
    "                        'District Type': str,\n",
    "                        'districttype': str,\n",
    "                        'districtType': str,\n",
    "                        'DistrictType': str,\n",
    "                        'schoolnumber': str,\n",
    "                        'schoolNumber': str,\n",
    "                        'School Number': str,\n",
    "                        'SchoolNumber': str,\n",
    "                        'asg_cde': str,\n",
    "                        'crt_cde': str,\n",
    "                        'zip': str,\n",
    "                        'zip4': str,\n",
    "                        'eco_dev_rgn': str \n",
    "                      })\n",
    "    clean_table(df)\n",
    "    return df"
   ]
  },
  {
   "cell_type": "code",
   "execution_count": 92,
   "metadata": {
    "collapsed": true,
    "scrolled": true
   },
   "outputs": [],
   "source": [
    "###Load data for each file name in the files list\n",
    "employFrames = [ load_data(f) for f in employFiles ]\n",
    "assignFrames = [ load_data(f) for f in assignFiles ]"
   ]
  },
  {
   "cell_type": "code",
   "execution_count": 93,
   "metadata": {
    "collapsed": true
   },
   "outputs": [],
   "source": [
    "###Create \"DistrictID\" column to use as an index\n",
    "for df in assignFrames:\n",
    "    df['DistrictID'] = df['DistrictNumber'] + '-' + df['DistrictType'] + '-' + df['SchoolNumber']\n",
    "    \n",
    "for df in employFrames:\n",
    "    df['DistrictID'] = df['DistrictNumber'] + '-' + df['DistrictType'] + '-000'\n",
    "\n",
    "###Set indices\n",
    "employFrames = [ df.set_index(['DataYear', 'FdrNum', 'DistrictID']) for df in employFrames ]\n",
    "assignFrames = [ df.set_index(['DataYear', 'FdrNum', 'DistrictID', 'AsgCde']) for df in assignFrames ]"
   ]
  },
  {
   "cell_type": "code",
   "execution_count": 94,
   "metadata": {
    "collapsed": true
   },
   "outputs": [],
   "source": [
    "###Join dataframes for all years into one. Drop blank rows.\n",
    "employ = employ.append(employFrames)\n",
    "assign = assign.append(assignFrames)"
   ]
  },
  {
   "cell_type": "code",
   "execution_count": 95,
   "metadata": {
    "collapsed": true
   },
   "outputs": [],
   "source": [
    "employ.drop('end of workbook', level='DataYear', inplace=True)\n",
    "assign.drop('end of workbook', level='DataYear', inplace=True)"
   ]
  },
  {
   "cell_type": "code",
   "execution_count": 96,
   "metadata": {
    "collapsed": true
   },
   "outputs": [],
   "source": [
    "###Save tables to local folder\n",
    "employ.to_csv('tempdata/employ.csv')\n",
    "assign.to_csv('tempdata/assign.csv')"
   ]
  },
  {
   "cell_type": "code",
   "execution_count": 46,
   "metadata": {},
   "outputs": [
    {
     "name": "stderr",
     "output_type": "stream",
     "text": [
      "127.0.0.1 - - [05/Oct/2017 15:04:26] \"GET /?code=M7e95e7bd-693f-98cc-ff1e-79f79dae45dc HTTP/1.1\" 200 -\n"
     ]
    }
   ],
   "source": [
    "###Update shared files on OneDrive and return new link to file.\n",
    "import onedrivesdk\n",
    "from onedrivesdk.helpers import GetAuthCodeServer\n",
    "\n",
    "redirect_uri = 'http://localhost:8080/'\n",
    "\n",
    "#Credentials for \"Python data upload\" OneDrive app\n",
    "client_secret = 'YfXJZzwOK8rkym1Qj7TphXO'\n",
    "client = onedrivesdk.get_default_client(client_id='fd99211b-d8ec-413a-a1d9-ed4ab1ac8a6e',\n",
    "                                            scopes=['wl.signin',\n",
    "                                                    'wl.offline_access',\n",
    "                                                    'onedrive.readwrite'])\n",
    "auth_url = client.auth_provider.get_auth_url(redirect_uri)\n",
    "\n",
    "# Block thread until we have the code\n",
    "code = GetAuthCodeServer.get_auth_code(auth_url, redirect_uri)\n",
    "# Finally, authenticate\n",
    "client.auth_provider.authenticate(code, redirect_uri, client_secret)"
   ]
  },
  {
   "cell_type": "code",
   "execution_count": 47,
   "metadata": {
    "scrolled": true
   },
   "outputs": [
    {
     "ename": "ValueError",
     "evalue": "No JSON object could be decoded",
     "output_type": "error",
     "traceback": [
      "\u001b[1;31m---------------------------------------------------------------------------\u001b[0m",
      "\u001b[1;31mValueError\u001b[0m                                Traceback (most recent call last)",
      "\u001b[1;32m<ipython-input-47-3a66aa42518e>\u001b[0m in \u001b[0;36m<module>\u001b[1;34m()\u001b[0m\n\u001b[1;32m----> 1\u001b[1;33m \u001b[0mreturned_item1\u001b[0m \u001b[1;33m=\u001b[0m \u001b[0mclient\u001b[0m\u001b[1;33m.\u001b[0m\u001b[0mitem\u001b[0m\u001b[1;33m(\u001b[0m\u001b[0mid\u001b[0m\u001b[1;33m=\u001b[0m\u001b[1;34m'root'\u001b[0m\u001b[1;33m)\u001b[0m\u001b[1;33m.\u001b[0m\u001b[0mchildren\u001b[0m\u001b[1;33m[\u001b[0m\u001b[1;34m'employ.csv'\u001b[0m\u001b[1;33m]\u001b[0m\u001b[1;33m.\u001b[0m\u001b[0mupload\u001b[0m\u001b[1;33m(\u001b[0m\u001b[1;34m'tempdata/employ.csv'\u001b[0m\u001b[1;33m)\u001b[0m\u001b[1;33m\u001b[0m\u001b[0m\n\u001b[0m",
      "\u001b[1;32mC:\\ProgramData\\Anaconda2\\lib\\site-packages\\onedrivesdk\\request\\item_request_builder.pyc\u001b[0m in \u001b[0;36mupload\u001b[1;34m(self, local_path)\u001b[0m\n\u001b[0;32m     86\u001b[0m             \u001b[0mThe\u001b[0m \u001b[0mcreated\u001b[0m \u001b[0mentity\u001b[0m\u001b[1;33m.\u001b[0m\u001b[1;33m\u001b[0m\u001b[0m\n\u001b[0;32m     87\u001b[0m         \"\"\"\n\u001b[1;32m---> 88\u001b[1;33m         \u001b[1;32mreturn\u001b[0m \u001b[0mself\u001b[0m\u001b[1;33m.\u001b[0m\u001b[0mcontent\u001b[0m\u001b[1;33m.\u001b[0m\u001b[0mrequest\u001b[0m\u001b[1;33m(\u001b[0m\u001b[1;33m)\u001b[0m\u001b[1;33m.\u001b[0m\u001b[0mupload\u001b[0m\u001b[1;33m(\u001b[0m\u001b[0mlocal_path\u001b[0m\u001b[1;33m)\u001b[0m\u001b[1;33m\u001b[0m\u001b[0m\n\u001b[0m\u001b[0;32m     89\u001b[0m \u001b[1;33m\u001b[0m\u001b[0m\n\u001b[0;32m     90\u001b[0m \u001b[1;33m\u001b[0m\u001b[0m\n",
      "\u001b[1;32mC:\\ProgramData\\Anaconda2\\lib\\site-packages\\onedrivesdk\\request\\item_content_request.pyc\u001b[0m in \u001b[0;36mupload\u001b[1;34m(self, content_local_path)\u001b[0m\n\u001b[0;32m     57\u001b[0m         \u001b[0mself\u001b[0m\u001b[1;33m.\u001b[0m\u001b[0mmethod\u001b[0m \u001b[1;33m=\u001b[0m \u001b[1;34m\"PUT\"\u001b[0m\u001b[1;33m\u001b[0m\u001b[0m\n\u001b[0;32m     58\u001b[0m         \u001b[0mentity_response\u001b[0m \u001b[1;33m=\u001b[0m \u001b[0mself\u001b[0m\u001b[1;33m.\u001b[0m\u001b[0msend\u001b[0m\u001b[1;33m(\u001b[0m\u001b[0mpath\u001b[0m\u001b[1;33m=\u001b[0m\u001b[0mcontent_local_path\u001b[0m\u001b[1;33m)\u001b[0m\u001b[1;33m\u001b[0m\u001b[0m\n\u001b[1;32m---> 59\u001b[1;33m         \u001b[0mentity\u001b[0m \u001b[1;33m=\u001b[0m \u001b[0mItem\u001b[0m\u001b[1;33m(\u001b[0m\u001b[0mjson\u001b[0m\u001b[1;33m.\u001b[0m\u001b[0mloads\u001b[0m\u001b[1;33m(\u001b[0m\u001b[0mentity_response\u001b[0m\u001b[1;33m.\u001b[0m\u001b[0mcontent\u001b[0m\u001b[1;33m)\u001b[0m\u001b[1;33m)\u001b[0m\u001b[1;33m\u001b[0m\u001b[0m\n\u001b[0m\u001b[0;32m     60\u001b[0m         \u001b[1;32mreturn\u001b[0m \u001b[0mentity\u001b[0m\u001b[1;33m\u001b[0m\u001b[0m\n\u001b[0;32m     61\u001b[0m \u001b[1;33m\u001b[0m\u001b[0m\n",
      "\u001b[1;32mC:\\ProgramData\\Anaconda2\\lib\\json\\__init__.pyc\u001b[0m in \u001b[0;36mloads\u001b[1;34m(s, encoding, cls, object_hook, parse_float, parse_int, parse_constant, object_pairs_hook, **kw)\u001b[0m\n\u001b[0;32m    337\u001b[0m             \u001b[0mparse_int\u001b[0m \u001b[1;32mis\u001b[0m \u001b[0mNone\u001b[0m \u001b[1;32mand\u001b[0m \u001b[0mparse_float\u001b[0m \u001b[1;32mis\u001b[0m \u001b[0mNone\u001b[0m \u001b[1;32mand\u001b[0m\u001b[1;33m\u001b[0m\u001b[0m\n\u001b[0;32m    338\u001b[0m             parse_constant is None and object_pairs_hook is None and not kw):\n\u001b[1;32m--> 339\u001b[1;33m         \u001b[1;32mreturn\u001b[0m \u001b[0m_default_decoder\u001b[0m\u001b[1;33m.\u001b[0m\u001b[0mdecode\u001b[0m\u001b[1;33m(\u001b[0m\u001b[0ms\u001b[0m\u001b[1;33m)\u001b[0m\u001b[1;33m\u001b[0m\u001b[0m\n\u001b[0m\u001b[0;32m    340\u001b[0m     \u001b[1;32mif\u001b[0m \u001b[0mcls\u001b[0m \u001b[1;32mis\u001b[0m \u001b[0mNone\u001b[0m\u001b[1;33m:\u001b[0m\u001b[1;33m\u001b[0m\u001b[0m\n\u001b[0;32m    341\u001b[0m         \u001b[0mcls\u001b[0m \u001b[1;33m=\u001b[0m \u001b[0mJSONDecoder\u001b[0m\u001b[1;33m\u001b[0m\u001b[0m\n",
      "\u001b[1;32mC:\\ProgramData\\Anaconda2\\lib\\json\\decoder.pyc\u001b[0m in \u001b[0;36mdecode\u001b[1;34m(self, s, _w)\u001b[0m\n\u001b[0;32m    362\u001b[0m \u001b[1;33m\u001b[0m\u001b[0m\n\u001b[0;32m    363\u001b[0m         \"\"\"\n\u001b[1;32m--> 364\u001b[1;33m         \u001b[0mobj\u001b[0m\u001b[1;33m,\u001b[0m \u001b[0mend\u001b[0m \u001b[1;33m=\u001b[0m \u001b[0mself\u001b[0m\u001b[1;33m.\u001b[0m\u001b[0mraw_decode\u001b[0m\u001b[1;33m(\u001b[0m\u001b[0ms\u001b[0m\u001b[1;33m,\u001b[0m \u001b[0midx\u001b[0m\u001b[1;33m=\u001b[0m\u001b[0m_w\u001b[0m\u001b[1;33m(\u001b[0m\u001b[0ms\u001b[0m\u001b[1;33m,\u001b[0m \u001b[1;36m0\u001b[0m\u001b[1;33m)\u001b[0m\u001b[1;33m.\u001b[0m\u001b[0mend\u001b[0m\u001b[1;33m(\u001b[0m\u001b[1;33m)\u001b[0m\u001b[1;33m)\u001b[0m\u001b[1;33m\u001b[0m\u001b[0m\n\u001b[0m\u001b[0;32m    365\u001b[0m         \u001b[0mend\u001b[0m \u001b[1;33m=\u001b[0m \u001b[0m_w\u001b[0m\u001b[1;33m(\u001b[0m\u001b[0ms\u001b[0m\u001b[1;33m,\u001b[0m \u001b[0mend\u001b[0m\u001b[1;33m)\u001b[0m\u001b[1;33m.\u001b[0m\u001b[0mend\u001b[0m\u001b[1;33m(\u001b[0m\u001b[1;33m)\u001b[0m\u001b[1;33m\u001b[0m\u001b[0m\n\u001b[0;32m    366\u001b[0m         \u001b[1;32mif\u001b[0m \u001b[0mend\u001b[0m \u001b[1;33m!=\u001b[0m \u001b[0mlen\u001b[0m\u001b[1;33m(\u001b[0m\u001b[0ms\u001b[0m\u001b[1;33m)\u001b[0m\u001b[1;33m:\u001b[0m\u001b[1;33m\u001b[0m\u001b[0m\n",
      "\u001b[1;32mC:\\ProgramData\\Anaconda2\\lib\\json\\decoder.pyc\u001b[0m in \u001b[0;36mraw_decode\u001b[1;34m(self, s, idx)\u001b[0m\n\u001b[0;32m    380\u001b[0m             \u001b[0mobj\u001b[0m\u001b[1;33m,\u001b[0m \u001b[0mend\u001b[0m \u001b[1;33m=\u001b[0m \u001b[0mself\u001b[0m\u001b[1;33m.\u001b[0m\u001b[0mscan_once\u001b[0m\u001b[1;33m(\u001b[0m\u001b[0ms\u001b[0m\u001b[1;33m,\u001b[0m \u001b[0midx\u001b[0m\u001b[1;33m)\u001b[0m\u001b[1;33m\u001b[0m\u001b[0m\n\u001b[0;32m    381\u001b[0m         \u001b[1;32mexcept\u001b[0m \u001b[0mStopIteration\u001b[0m\u001b[1;33m:\u001b[0m\u001b[1;33m\u001b[0m\u001b[0m\n\u001b[1;32m--> 382\u001b[1;33m             \u001b[1;32mraise\u001b[0m \u001b[0mValueError\u001b[0m\u001b[1;33m(\u001b[0m\u001b[1;34m\"No JSON object could be decoded\"\u001b[0m\u001b[1;33m)\u001b[0m\u001b[1;33m\u001b[0m\u001b[0m\n\u001b[0m\u001b[0;32m    383\u001b[0m         \u001b[1;32mreturn\u001b[0m \u001b[0mobj\u001b[0m\u001b[1;33m,\u001b[0m \u001b[0mend\u001b[0m\u001b[1;33m\u001b[0m\u001b[0m\n",
      "\u001b[1;31mValueError\u001b[0m: No JSON object could be decoded"
     ]
    }
   ],
   "source": [
    "returned_item1 = client.item(id='root').children['employ.csv'].upload('tempdata/employ.csv')"
   ]
  },
  {
   "cell_type": "code",
   "execution_count": null,
   "metadata": {
    "collapsed": true
   },
   "outputs": [],
   "source": [
    "returned_item2 = client.item(id='root').children['assign.csv'].upload('tempdata/assign.csv')"
   ]
  },
  {
   "cell_type": "code",
   "execution_count": 11,
   "metadata": {},
   "outputs": [
    {
     "data": {
      "text/plain": [
       "'\\nhttps://1drv.ms/u/s!AvY_lznp4oOFbYO05RJAN2MP-90\\n'"
      ]
     },
     "execution_count": 11,
     "metadata": {},
     "output_type": "execute_result"
    }
   ],
   "source": [
    "#Input the client information from above and the enroll and assign filenames to generate new sharing links\n",
    "def get_sharing_link(c, fileName):\n",
    "    permission = c.item(id='root').children[fileName].create_link(\"view\").post()\n",
    "    return (\"\\n{}\\n\".format(permission.link.web_url))\n",
    "\n",
    "links = [get_sharing_link(client, 'employ.csv'), get_sharing_link(client, 'assign.csv')]\n",
    "\n",
    "print links[0]\n",
    "print links[1]"
   ]
  },
  {
   "cell_type": "code",
   "execution_count": null,
   "metadata": {
    "collapsed": true
   },
   "outputs": [],
   "source": []
  }
 ],
 "metadata": {
  "kernelspec": {
   "display_name": "Python 2",
   "language": "python",
   "name": "python2"
  },
  "language_info": {
   "codemirror_mode": {
    "name": "ipython",
    "version": 2
   },
   "file_extension": ".py",
   "mimetype": "text/x-python",
   "name": "python",
   "nbconvert_exporter": "python",
   "pygments_lexer": "ipython2",
   "version": "2.7.13"
  }
 },
 "nbformat": 4,
 "nbformat_minor": 2
}
