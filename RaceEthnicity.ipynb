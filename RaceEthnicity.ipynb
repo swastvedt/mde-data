{
 "cells": [
  {
   "cell_type": "markdown",
   "metadata": {},
   "source": [
    "# Enrollment: Race and Ethnicity\n",
    "Load and join enrollment files, by race and ethnicity, for 2005-06 through the current year. Include state, district and school-level information in a single dataframe"
   ]
  },
  {
   "cell_type": "code",
   "execution_count": 28,
   "metadata": {
    "collapsed": true
   },
   "outputs": [],
   "source": [
    "import pandas as pd\n",
    "import re\n",
    "import datetime\n",
    "\n",
    "#Source folder for the excel files, downloaded from MDE website\n",
    "folder = 'C:/Users/swastvedt/Documents/MDE Data_Documents/Enrollment/Originals/'\n",
    "currentYear = datetime.date.today().year\n",
    "#Earliest year we have data for\n",
    "a = 2005\n",
    "\n",
    "raceEthnicity = pd.DataFrame()\n",
    "files = []\n",
    "\n",
    "###Create a list of file names\n",
    "#Account for change in file name format that occurred in 2015-16\n",
    "while a < currentYear:\n",
    "    if a < 2016:\n",
    "        files.append(folder + str(a) + '-' + str(a+1) + ' Enrollment Gender Ethnicity Rev.xlsx')\n",
    "        \n",
    "    else:\n",
    "        files.append(folder + str(a) + '-' + str(a+1) + ' Enrollment by Ethnicity_Gender.xlsx')\n",
    "        \n",
    "    a = a + 1\n",
    "    \n",
    "def upcase_first_letter(s):\n",
    "    return s[0].upper() + s[1:]\n",
    "\n",
    "def remove_underscore(s):\n",
    "    return re.sub(r'_', '', s)\n",
    "\n",
    "###Capitalize column names and create \"DistrictID\" column to use as an index\n",
    "def clean_table(df):\n",
    "    df.columns = [str(upcase_first_letter(x)) for x in df.columns]\n",
    "    df.columns = [str(remove_underscore(x)) if (x == 'Total_Male' or x == 'Total_Female') else x for x in df.columns]\n",
    "    df['DistrictID'] = df['DistrictNumber'] + '-' + df['DistrictType'] + '-' + df['SchoolNumber']\n",
    "    df = df.set_index(['DataYear', 'DistrictID', 'Grade'])\n",
    "    \n",
    "    return df\n",
    "\n",
    "###Load files from source folder. Create a list of dataframes for each year that includes state, district and school-level information\n",
    "def load_data(f):\n",
    "    df_st = pd.read_excel(f, sheetname='State', dtype = {0:str, 1: str, 3: str, 4: str, 6: str, 8: str, 9: str, 25: str, 26: str, 27: str})\n",
    "    df_dist = pd.read_excel(f, sheetname='District', dtype = {0:str, 1: str, 3: str, 4: str, 6: str, 8: str, 9: str, 25: str, 26: str, 27: str})\n",
    "    df_sch = pd.read_excel(f, sheetname='School', dtype = {0:str, 1: str, 3: str, 4: str, 6: str, 8: str, 9: str, 25: str, 26: str, 27: str})\n",
    "    \n",
    "    df_list = [clean_table(d) for d in [df_st, df_dist, df_sch]]\n",
    "\n",
    "    return df_list"
   ]
  },
  {
   "cell_type": "code",
   "execution_count": 32,
   "metadata": {
    "collapsed": true
   },
   "outputs": [],
   "source": [
    "###Load data for each file name in the files list\n",
    "frames = [ load_data(f) for f in files ]"
   ]
  },
  {
   "cell_type": "code",
   "execution_count": 33,
   "metadata": {
    "collapsed": true
   },
   "outputs": [],
   "source": [
    "###Join state, district and school-level data for each year in the frames list\n",
    "listCollapse = [ l[0].append([l[1], l[2]]) for l in frames ]"
   ]
  },
  {
   "cell_type": "code",
   "execution_count": 34,
   "metadata": {
    "collapsed": true
   },
   "outputs": [],
   "source": [
    "###Join dataframes for all years into one. Drop blank rows.\n",
    "raceEthnicity = raceEthnicity.append(listCollapse)"
   ]
  },
  {
   "cell_type": "code",
   "execution_count": 35,
   "metadata": {
    "collapsed": true
   },
   "outputs": [],
   "source": [
    "raceEthnicity.drop('end of worksheet', level='DataYear', inplace=True)"
   ]
  },
  {
   "cell_type": "code",
   "execution_count": 36,
   "metadata": {
    "collapsed": true
   },
   "outputs": [],
   "source": [
    "###Save raceEthnicity table to local folder\n",
    "raceEthnicity.to_csv('tempdata/raceEthnicity.csv')"
   ]
  },
  {
   "cell_type": "code",
   "execution_count": 37,
   "metadata": {},
   "outputs": [
    {
     "name": "stderr",
     "output_type": "stream",
     "text": [
      "127.0.0.1 - - [24/Sep/2017 21:02:31] \"GET /?code=M5a10fc05-b3ba-98de-2af3-ee4a634ca442 HTTP/1.1\" 200 -\n"
     ]
    }
   ],
   "source": [
    "###Update shared file on OneDrive and return new link to file.\n",
    "import onedrivesdk\n",
    "from onedrivesdk.helpers import GetAuthCodeServer\n",
    "\n",
    "redirect_uri = 'http://localhost:8080/'\n",
    "\n",
    "#Credentials for \"Python data upload\" OneDrive app\n",
    "client_secret = ***\n",
    "client = onedrivesdk.get_default_client(client_id=***,\n",
    "                                            scopes=['wl.signin',\n",
    "                                                    'wl.offline_access',\n",
    "                                                    'onedrive.readwrite'])\n",
    "auth_url = client.auth_provider.get_auth_url(redirect_uri)\n",
    "\n",
    "# Block thread until we have the code\n",
    "code = GetAuthCodeServer.get_auth_code(auth_url, redirect_uri)\n",
    "# Finally, authenticate!\n",
    "client.auth_provider.authenticate(code, redirect_uri, client_secret)"
   ]
  },
  {
   "cell_type": "code",
   "execution_count": 38,
   "metadata": {
    "collapsed": true
   },
   "outputs": [],
   "source": [
    "returned_item = client.item(id='root').children['raceEthnicity.csv'].upload('tempdata/raceEthnicity.csv')"
   ]
  },
  {
   "cell_type": "code",
   "execution_count": 39,
   "metadata": {},
   "outputs": [
    {
     "data": {
      "text/plain": [
       "'\\nhttps://1drv.ms/u/s!AvY_lznp4oOFa_iN1oRnuoQ9c8k\\n'"
      ]
     },
     "execution_count": 39,
     "metadata": {},
     "output_type": "execute_result"
    }
   ],
   "source": [
    "#Input the client information from above and the \"raceEthnicity.csv\" filename to generate a new sharing link\n",
    "def get_sharing_link(c, fileName):\n",
    "    permission = c.item(id='root').children[fileName].create_link(\"view\").post()\n",
    "    return (\"\\n{}\\n\".format(permission.link.web_url))\n",
    "\n",
    "get_sharing_link(client, 'raceEthnicity.csv')"
   ]
  },
  {
   "cell_type": "code",
   "execution_count": null,
   "metadata": {
    "collapsed": true
   },
   "outputs": [],
   "source": []
  }
 ],
 "metadata": {
  "kernelspec": {
   "display_name": "Python 2",
   "language": "python",
   "name": "python2"
  },
  "language_info": {
   "codemirror_mode": {
    "name": "ipython",
    "version": 2
   },
   "file_extension": ".py",
   "mimetype": "text/x-python",
   "name": "python",
   "nbconvert_exporter": "python",
   "pygments_lexer": "ipython2",
   "version": "2.7.13"
  }
 },
 "nbformat": 4,
 "nbformat_minor": 2
}
