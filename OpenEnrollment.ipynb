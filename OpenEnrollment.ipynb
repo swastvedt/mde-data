{
 "cells": [
  {
   "cell_type": "markdown",
   "metadata": {},
   "source": [
    "# Open Enrollment\n",
    "Load and join open enrollment files for 2005-06 through the current year."
   ]
  },
  {
   "cell_type": "code",
   "execution_count": 4,
   "metadata": {
    "collapsed": true
   },
   "outputs": [],
   "source": [
    "import pandas as pd\n",
    "import re\n",
    "import datetime\n",
    "\n",
    "#Source folder for the excel files, downloaded from MDE website\n",
    "folder = 'C:/Users/swastvedt/Documents/MDE Data_Documents/OpenEnrollment/Originals/'\n",
    "currentYear = datetime.date.today().year % 100\n",
    "#Earliest year we have data for\n",
    "a = 9\n",
    "\n",
    "openEnroll = pd.DataFrame()\n",
    "files = []\n",
    "\n",
    "###Create a list of file names\n",
    "#Account for change in file name format that occurred in 2015-16\n",
    "while a < currentYear:\n",
    "    if a < 10:\n",
    "        files.append(folder + 'open enrollment 0' + str(a) + '-' + str(a+1) + '.xlsx')\n",
    "        \n",
    "    else:\n",
    "        files.append(folder + 'open enrollment ' + str(a) + '-' + str(a+1) + '.xlsx')\n",
    "        \n",
    "    a = a + 1\n",
    "    \n",
    "def upcase_first_letter(s):\n",
    "    return s[0].upper() + s[1:]\n",
    "\n",
    "def remove_spaces(s):\n",
    "    return re.sub(r' ', '', s)\n",
    "\n",
    "###Capitalize column names and create \"DistrictID\" column to use as an index\n",
    "def clean_table(df):\n",
    "    df.columns = [str(upcase_first_letter(x)) for x in df.columns]\n",
    "    df.columns = [str(remove_spaces(x)) for x in df.columns]\n",
    "    df.rename(columns = {'Dat_yer':'DataYear'}, inplace=True)\n",
    "    df['EnrollDistrictID'] = df['EnrollingDistrictNumber'] + '-' + df['EnrollingDistrictType'] + '-000'\n",
    "    df['ResidentDistrictID'] = df['ResidentDistrictNumber'] + '-' + df['ResidentDistrictType'] + '-000'\n",
    "    df = df.set_index(['DataYear', 'EnrollDistrictID', 'ResidentDistrictID'])\n",
    "    \n",
    "    return df\n",
    "\n",
    "###Load files from source folder. Create a list of dataframes for each year that includes state, district and school-level information\n",
    "def load_data(f):\n",
    "    df = pd.read_excel(f, dtype = {0:str, 1: str, 2: str, 5: str, 6: str})\n",
    "    df = clean_table(df)\n",
    "    \n",
    "    return df"
   ]
  },
  {
   "cell_type": "code",
   "execution_count": 5,
   "metadata": {
    "collapsed": true,
    "scrolled": true
   },
   "outputs": [],
   "source": [
    "###Load data for each file name in the files list\n",
    "frames = [ load_data(f) for f in files ]"
   ]
  },
  {
   "cell_type": "code",
   "execution_count": 6,
   "metadata": {
    "collapsed": true
   },
   "outputs": [],
   "source": [
    "###Join dataframes for all years into one. Drop blank rows.\n",
    "openEnroll = openEnroll.append(frames)"
   ]
  },
  {
   "cell_type": "code",
   "execution_count": 7,
   "metadata": {
    "collapsed": true
   },
   "outputs": [],
   "source": [
    "openEnroll.drop('end of workbook', level='DataYear', inplace=True)"
   ]
  },
  {
   "cell_type": "code",
   "execution_count": 8,
   "metadata": {
    "collapsed": true
   },
   "outputs": [],
   "source": [
    "###Save raceEthnicity table to local folder\n",
    "openEnroll.to_csv('tempdata/openEnroll.csv')"
   ]
  },
  {
   "cell_type": "code",
   "execution_count": 9,
   "metadata": {},
   "outputs": [
    {
     "name": "stderr",
     "output_type": "stream",
     "text": [
      "127.0.0.1 - - [28/Sep/2017 15:30:06] \"GET /?code=M6c1d1aed-2a43-5d24-bd03-3e43c7a15839 HTTP/1.1\" 200 -\n"
     ]
    }
   ],
   "source": [
    "###Update shared file on OneDrive and return new link to file.\n",
    "import onedrivesdk\n",
    "from onedrivesdk.helpers import GetAuthCodeServer\n",
    "\n",
    "redirect_uri = 'http://localhost:8080/'\n",
    "\n",
    "#Credentials for \"Python data upload\" OneDrive app\n",
    "client_secret = ***\n",
    "client = onedrivesdk.get_default_client(client_id=***,\n",
    "                                            scopes=['wl.signin',\n",
    "                                                    'wl.offline_access',\n",
    "                                                    'onedrive.readwrite'])\n",
    "auth_url = client.auth_provider.get_auth_url(redirect_uri)\n",
    "\n",
    "# Block thread until we have the code\n",
    "code = GetAuthCodeServer.get_auth_code(auth_url, redirect_uri)\n",
    "# Finally, authenticate\n",
    "client.auth_provider.authenticate(code, redirect_uri, client_secret)"
   ]
  },
  {
   "cell_type": "code",
   "execution_count": 10,
   "metadata": {},
   "outputs": [],
   "source": [
    "returned_item = client.item(id='root').children['openEnroll.csv'].upload('tempdata/openEnroll.csv')"
   ]
  },
  {
   "cell_type": "code",
   "execution_count": 11,
   "metadata": {},
   "outputs": [
    {
     "data": {
      "text/plain": [
       "'\\nhttps://1drv.ms/u/s!AvY_lznp4oOFbYO05RJAN2MP-90\\n'"
      ]
     },
     "execution_count": 11,
     "metadata": {},
     "output_type": "execute_result"
    }
   ],
   "source": [
    "#Input the client information from above and the \"openEnroll.csv\" filename to generate a new sharing link\n",
    "def get_sharing_link(c, fileName):\n",
    "    permission = c.item(id='root').children[fileName].create_link(\"view\").post()\n",
    "    return (\"\\n{}\\n\".format(permission.link.web_url))\n",
    "\n",
    "get_sharing_link(client, 'openEnroll.csv')"
   ]
  },
  {
   "cell_type": "code",
   "execution_count": null,
   "metadata": {
    "collapsed": true
   },
   "outputs": [],
   "source": []
  }
 ],
 "metadata": {
  "kernelspec": {
   "display_name": "Python 2",
   "language": "python",
   "name": "python2"
  },
  "language_info": {
   "codemirror_mode": {
    "name": "ipython",
    "version": 2
   },
   "file_extension": ".py",
   "mimetype": "text/x-python",
   "name": "python",
   "nbconvert_exporter": "python",
   "pygments_lexer": "ipython2",
   "version": "2.7.13"
  }
 },
 "nbformat": 4,
 "nbformat_minor": 2
}
